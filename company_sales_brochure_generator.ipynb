{
 "cells": [
  {
   "cell_type": "markdown",
   "id": "e82b55ff",
   "metadata": {},
   "source": [
    "### BUSINESS CHALLENGE:\n",
    "\n",
    "Create a product that builds a Brochure for a company to be used for prospective clients, investors and potential recruits.\n",
    "\n",
    "We will be provided a company name and their primary website."
   ]
  },
  {
   "cell_type": "markdown",
   "id": "50ab4a3f",
   "metadata": {},
   "source": [
    "# Imports"
   ]
  },
  {
   "cell_type": "code",
   "execution_count": 1,
   "id": "51d5c018",
   "metadata": {},
   "outputs": [],
   "source": [
    "import os\n",
    "import requests\n",
    "import json\n",
    "from typing import List\n",
    "from dotenv import load_dotenv\n",
    "from bs4 import BeautifulSoup\n",
    "from IPython.display import Markdown, display, update_display\n",
    "from openai import OpenAI"
   ]
  },
  {
   "cell_type": "markdown",
   "id": "08818a00",
   "metadata": {},
   "source": [
    "# Initialize and Constants"
   ]
  },
  {
   "cell_type": "code",
   "execution_count": 3,
   "id": "5861b522",
   "metadata": {},
   "outputs": [
    {
     "name": "stdout",
     "output_type": "stream",
     "text": [
      "API key found and looks good so far!\n"
     ]
    }
   ],
   "source": [
    "load_dotenv(override=True)\n",
    "api_key = os.getenv('OPENAI_API_KEY')\n",
    "\n",
    "# Check the key\n",
    "\n",
    "if not api_key:\n",
    "    print(\"No API key was found.\")\n",
    "elif not api_key.startswith(\"sk-proj-\"):\n",
    "    print(\"An API key was found, but it doesn't start sk-proj-; please check you're using the right key.\")\n",
    "elif api_key.strip() != api_key:\n",
    "    print(\"An API key was found, but it looks like it might have space or tab characters at the start or end - please remove them.\")\n",
    "else:\n",
    "    print(\"API key found and looks good so far!\")\n",
    "\n",
    "\n",
    "MODEL = 'gpt-4o-mini'\n",
    "openai = OpenAI()"
   ]
  },
  {
   "cell_type": "markdown",
   "id": "541c2f63",
   "metadata": {},
   "source": [
    "# Scrape Website"
   ]
  },
  {
   "cell_type": "code",
   "execution_count": 28,
   "id": "1bb24457",
   "metadata": {},
   "outputs": [],
   "source": [
    "class Website:\n",
    "    url: str\n",
    "    title: str\n",
    "    body: str\n",
    "    links: List[str]\n",
    "    text: str\n",
    "    \n",
    "    def __init__(self, url):\n",
    "        self.url = url\n",
    "        reponse = requests.get(url)\n",
    "        self.body = reponse.content\n",
    "        soup = BeautifulSoup(self.body, 'html.parser')\n",
    "        self.title = soup.title.string if soup.title else \"No title found\"\n",
    "        \n",
    "        if soup.body:\n",
    "            for irrelevant in soup.body([\"script\", \"style\", \"img\", \"input\"]):\n",
    "                irrelevant.decompose()\n",
    "            self.text = soup.body.get_text(separator=\"\\n\", strip=True)\n",
    "        else:\n",
    "            self.text = \"\"\n",
    "        \n",
    "        links = [link.get('href') for link in soup.find_all('a')]\n",
    "        self.links = [link for link in links if link]\n",
    "    \n",
    "    def get_content(self):\n",
    "        return f\"Webpage Title:\\n{self.title}\\nWebpage Contents:\\n{self.text}\\n\\n\""
   ]
  },
  {
   "cell_type": "markdown",
   "id": "17d002d8",
   "metadata": {},
   "source": [
    "## First step: Have GPT-4o-mini figure out which links are relevant\n",
    "\n",
    "### Use a call to gpt-4o-mini to read the links on a webpage, and respond in structured JSON.  \n",
    "It should decide which links are relevant, and replace relative links such as \"/about\" with \"https://company.com/about\".  \n",
    "\"One shot prompting\" will be used in which an example of how it should respond in the prompt is provided."
   ]
  },
  {
   "cell_type": "code",
   "execution_count": 4,
   "id": "b7e3bbbd",
   "metadata": {},
   "outputs": [],
   "source": [
    "link_system_prompt = \"You are provided with a list of links found on a webpage. \\\n",
    "You are able to decide which of the links would be most relevant to include in a brochure about the company, \\\n",
    "such as links to an About page, or a Company page, or Careers/Jobs pages.\\n\"\n",
    "link_system_prompt += \"You should respond in JSON as in this example:\"\n",
    "link_system_prompt += \"\"\"\n",
    "{\n",
    "    \"links\": [\n",
    "        {\"type\": \"about page\", \"url\": \"https://full.url/goes/here/about\"},\n",
    "        {\"type\": \"careers page\": \"url\": \"https://another.full.url/careers\"}\n",
    "    ]\n",
    "}\n",
    "\"\"\""
   ]
  },
  {
   "cell_type": "code",
   "execution_count": 8,
   "id": "6a21aad5",
   "metadata": {},
   "outputs": [
    {
     "name": "stdout",
     "output_type": "stream",
     "text": [
      "You are provided with a list of links found on a webpage. You are able to decide which of the links would be most relevant to include in a brochure about the company, such as links to an About page, or a Company page, or Careers/Jobs pages.\n",
      "You should respond in JSON as in this example:\n",
      "{\n",
      "    \"links\": [\n",
      "        {\"type\": \"about page\", \"url\": \"https://full.url/goes/here/about\"},\n",
      "        {\"type\": \"careers page\": \"url\": \"https://another.full.url/careers\"}\n",
      "    ]\n",
      "}\n",
      "\n"
     ]
    }
   ],
   "source": [
    "print(link_system_prompt)"
   ]
  },
  {
   "cell_type": "code",
   "execution_count": 10,
   "id": "56201967",
   "metadata": {},
   "outputs": [],
   "source": [
    "def get_links_user_prompt(website):\n",
    "    user_prompt = f\"Here is the list of links on the website of {website.url} - \"\n",
    "    user_prompt += \"please decide which of these are relevant web links for a brochure about the company, respond with the full https URL in JSON format. \\\n",
    "Do not include Terms of Service, Privacy, email links.\\n\"\n",
    "    user_prompt += \"Links (some might be relative links):\\n\"\n",
    "    user_prompt += \"\\n\".join(website.links)\n",
    "    return user_prompt"
   ]
  },
  {
   "cell_type": "code",
   "execution_count": 19,
   "id": "a893f366",
   "metadata": {},
   "outputs": [
    {
     "name": "stdout",
     "output_type": "stream",
     "text": [
      "Here is the list of links on the website of https://www.aiub.edu/ - please decide which of these are relevant web links for a brochure about the company, respond with the full https URL in JSON format. Do not include Terms of Service, Privacy, email links.\n",
      "Links (some might be relative links):\n",
      "http://www.enable-javascript.com/\n",
      "#\n",
      "#\n",
      "#\n",
      "#\n",
      "//portal.aiub.edu/\n",
      "//portal.office.com/\n",
      "/contact-us\n",
      "/about\n",
      "/about/Information\n",
      "/about/general-information\n",
      "/about/Rules-Of-Entry\n",
      "/about/Why-Study-Here\n",
      "/about/Resources\n",
      "/about/career\n",
      "/about/Convocation\n",
      "/about/Video\n",
      "#\n",
      "/faculties/fass\n",
      "/faculties/fba\n",
      "/faculties/engg\n",
      "/faculties/b-pharm\n",
      "/faculties/fst\n",
      "/academic-calendar\n",
      "/academic-regulations\n",
      "#\n",
      "/tuition-fee\n",
      "/Faculty-List\n",
      "/partnerships/internationalization\n",
      "/partnerships/academic-partners\n",
      "/partnerships/strategic-partners\n",
      "https://ice.aiub.edu/\n",
      "/iqac\n",
      "/cetl\n",
      "/admission\n",
      "/\n",
      "/onCampus\n",
      "#\n",
      "#\n",
      "/Administration/The-Vice-Chancellor\n",
      "/Administration/vice-chancellor-profile\n",
      "/faculty-list/faculty-profile#arahman@aiub.edu\n",
      "/Administration/The-Chairman\n",
      "/Administration/The-Founders\n",
      "/administration/institutional-policy\n",
      "#\n",
      "/offices/oce\n",
      "/offices/oca\n",
      "/offices/ofa\n",
      "/offices/hrd\n",
      "/offices/opa\n",
      "/offices/opd\n",
      "/offices/op\n",
      "/offices/opr\n",
      "/offices/or\n",
      "/offices/os\n",
      "/offices/osa\n",
      "#\n",
      "/research\n",
      "#\n",
      "/publications\n",
      "/Files/student-research/\n",
      "#\n",
      "https://ajbe.aiub.edu/index.php/ajbe\n",
      "https://ajse.aiub.edu/index.php/ajse\n",
      "/files/research/\n",
      "/irb\n",
      "#\n",
      "/research/research-center/center-for-sustainable-energy-research-cser\n",
      "/research/research-center/center-for-nanotechnology-research-cnr\n",
      "/research/research-center/business-incubation-center\n",
      "#\n",
      "/research/upcoming-conferences\n",
      "/research/past-conferences\n",
      "/library\n",
      "/research/collaborating-institutes\n",
      "/research/innovations\n",
      "/category/notices\n",
      "/category/news-events\n",
      "#\n",
      "/aiub-newsletter/news-letter-subscription\n",
      "/about/Convocation\n",
      "/Alumni\n",
      "/about/Rules-Of-Entry\n",
      "#\n",
      "/future-Students\n",
      "/campus-map\n",
      "/\n",
      "https://portal.aiub.edu/\n",
      "https://portal.office.com/\n",
      "/contact-us\n",
      "/about\n",
      "/about/Information\n",
      "/about/general-information\n",
      "/about/Rules-Of-Entry\n",
      "/about/Why-Study-Here\n",
      "/about/Resources\n",
      "/about/career\n",
      "/about/Convocation\n",
      "/about/Video\n",
      "#academics\n",
      "#\n",
      "/faculties/fass\n",
      "/faculties/fba\n",
      "/faculties/engg\n",
      "/faculties/b-pharm\n",
      "/faculties/fst\n",
      "#\n",
      "/academic-calendar\n",
      "/academic-regulations\n",
      "#\n",
      "/tuition-fee\n",
      "/Faculty-List\n",
      "#\n",
      "/partnerships/internationalization\n",
      "/partnerships/academic-partners\n",
      "/partnerships/strategic-partners\n",
      "#\n",
      "https://ice.aiub.edu/\n",
      "#\n",
      "/iqac\n",
      "/cetl\n",
      "/admission\n",
      "/onCampus\n",
      "#academics\n",
      "#\n",
      "/Administration/The-Vice-Chancellor\n",
      "/Administration/vice-chancellor-profile\n",
      "/faculty-list/faculty-profile#arahman@aiub.edu\n",
      "/Administration/The-Chairman\n",
      "/Administration/The-Founders\n",
      "/administration/institutional-policy\n",
      "#\n",
      "/offices/oce\n",
      "/offices/oca\n",
      "/offices/ofa\n",
      "/offices/hrd\n",
      "/offices/opa\n",
      "/offices/opd\n",
      "/offices/op\n",
      "/offices/opr\n",
      "/offices/or\n",
      "/offices/os\n",
      "/offices/osa\n",
      "#academics\n",
      "/research\n",
      "#\n",
      "/publications\n",
      "/Files/student-research/\n",
      "#\n",
      "https://ajbe.aiub.edu/index.php/ajbe\n",
      "https://ajse.aiub.edu/index.php/ajse\n",
      "/files/research/\n",
      "/irb\n",
      "#\n",
      "/research/research-center/center-for-sustainable-energy-research-cser\n",
      "/research/research-center/center-for-nanotechnology-research-cnr\n",
      "/research/research-center/business-incubation-center\n",
      "#\n",
      "/research/upcoming-conferences\n",
      "/research/past-conferences\n",
      "/library\n",
      "/research/collaborating-institutes\n",
      "/research/innovations\n",
      "#\n",
      "#\n",
      "#\n",
      "#\n",
      "https://www.youtube.com/watch?v=5uFQtKGP4XI&ab_channel=Intapp\n",
      "https://www.youtube.com/watch?v=utfwfN7c9IY&ab_channel=Intapp\n",
      "/aiub-newsletter/news-letter-subscription\n",
      "/soho--smart-optimized-high-quality-and-on-demand-tourism-innovative-education-for-sustainable-and-green-development-2023-2026\n",
      "/aiub-is-a-signatory-of-magna-charta-universitatum-mcu\n",
      "/aiub-joins-responsible-futures-international-2024-2025\n",
      "/sustainability\n",
      "/sustainability\n",
      "#lqd-accordion-item-four\n",
      "/faculties/fass/programs/under-graduate/ba-in-english\n",
      "/faculties/fass/programs/under-graduate/ba-in-media-and-mass-communication\n",
      "/faculties/fass/programs/under-graduate/ba-in-laws\n",
      "/faculties/fass/programs/under-graduate/bss-in-economics\n",
      "/faculties/fba/programs/undergraduate/bachelor-of-business-administration-bba\n",
      "/faculties/engg/programs/b-arch\n",
      "/faculties/engg/programs/bsc-in-coe\n",
      "/faculties/engg/programs/bsc-in-eee\n",
      "/faculties/engg/programs/bsc-in-ipe\n",
      "/faculties/b-pharm\n",
      "/faculties/fst/programs/under-graduate/bachelor-of-science-in-data-science\n",
      "/faculties/fst/programs/under-graduate/bsc-in-computer-network--cyber-security\n",
      "/faculties/fst/programs/under-graduate/bachelor-of-science-in-computer-science--engineering\n",
      "#lqd-accordion-item-six\n",
      "/faculties/fass/programs/graduate/masters-in-development-studies-mds\n",
      "/faculties/fass/programs/graduate/masters-of-laws\n",
      "/faculties/fass/programs/graduate/masters-in-public-health\n",
      "/faculties/fba/programs/graduate/master-of-business-administration-regular\n",
      "/faculties/fba/programs/graduate/executive-master-of-business-administration-emba\n",
      "/faculties/engg/programs/meee\n",
      "/faculties/engg/programs/met\n",
      "/faculties/fst/programs/graduate/master-of-science-in-computer-science-msc-in-cs\n",
      "/category/notices\n",
      "/important-notice-it-is-to-be-noted-that-aiub-is-a-non-political-institution-of-higher-education\n",
      "/aiub-boishakh-utshab-1432---program-schedule-and-guidelines\n",
      "/holiday-notice-pohela-boishakh-1432-bangla-new-year\n",
      "/mid-term-exam-schedule-of-spring-2024-2025-undergraduateapr09\n",
      "/mid-term-exam-permit-fall-2024-25\n",
      "/mid-term-exam-schedule-of-spring-2024-25-graduate-apr-102025\n",
      "/aiub-boishakhi-utshob-1432\n",
      "/payment-schedule-spring-2024-25\n",
      "/category/news-events\n",
      "/analytics-in-action-unlocking-opportunities-in-a-data-driven-world\n",
      "/from-data-to-money-leveraging-information-through-business-analytics\n",
      "/building-careers-in-data-driven-banking\n",
      "/aiub-iqac-organizes-workshop-on-bac-accreditation-standards-and-sar-development\n",
      "/seminar-on-how-smart-kpi-ensures-an-effective-performance-appraisal-system-a-comprehensive-approach-to-organizational-success\n",
      "/fba-organized-a-seminar-on-unlocking-career-potential-strategies-for-success\n",
      "/webinar-on-it-based-project-management-in-banks-implementation-and-associated-challenges\n",
      "/aiub-students-to-present-at-global-student-sustainability-symposium\n",
      "/progress-seminar-of-aiub-funded-research-projects-in-fba\n",
      "/aiub-at-the-1st-lgu-global-engagement-forum-2024\n",
      "/mou-with-danang-university\n",
      "/analytics-in-action-unlocking-opportunities-in-a-data-driven-world\n",
      "/analytics-in-action-unlocking-opportunities-in-a-data-driven-world\n",
      "/from-data-to-money-leveraging-information-through-business-analytics\n",
      "/from-data-to-money-leveraging-information-through-business-analytics\n",
      "/building-careers-in-data-driven-banking\n",
      "/building-careers-in-data-driven-banking\n",
      "/aiub-iqac-organizes-workshop-on-bac-accreditation-standards-and-sar-development\n",
      "/aiub-iqac-organizes-workshop-on-bac-accreditation-standards-and-sar-development\n",
      "/seminar-on-how-smart-kpi-ensures-an-effective-performance-appraisal-system-a-comprehensive-approach-to-organizational-success\n",
      "/seminar-on-how-smart-kpi-ensures-an-effective-performance-appraisal-system-a-comprehensive-approach-to-organizational-success\n",
      "/fba-organized-a-seminar-on-unlocking-career-potential-strategies-for-success\n",
      "/fba-organized-a-seminar-on-unlocking-career-potential-strategies-for-success\n",
      "/webinar-on-it-based-project-management-in-banks-implementation-and-associated-challenges\n",
      "/webinar-on-it-based-project-management-in-banks-implementation-and-associated-challenges\n",
      "/aiub-students-to-present-at-global-student-sustainability-symposium\n",
      "/aiub-students-to-present-at-global-student-sustainability-symposium\n",
      "/progress-seminar-of-aiub-funded-research-projects-in-fba\n",
      "/progress-seminar-of-aiub-funded-research-projects-in-fba\n",
      "/aiub-at-the-1st-lgu-global-engagement-forum-2024\n",
      "/aiub-at-the-1st-lgu-global-engagement-forum-2024\n",
      "/mou-with-danang-university\n",
      "/mou-with-danang-university\n",
      "/faculties/fass\n",
      "/faculties/fba\n",
      "/faculties/engg\n",
      "/faculties/b-pharm\n",
      "/faculties/fst\n",
      "/library\n",
      "/oncampus/sports\n",
      "/oncampus/student-lounge\n",
      "/oncampus/health-and-wellness#Gymnasium\n",
      "/about/Resources#amphitheater\n",
      "/about/Resources#computerLaboratories\n",
      "/aiub-robotic-crew23-has-secured-11th-position-worldwide--in-the-international-rover-challenge\n",
      "/aiub-students-won-13-medals-in-30th-national-shooting-championship\n",
      "/aiub-oratory-club-aoc-won-the-atn-bangla-debate-for-democracy-2022\n",
      "https://admission.aiub.edu/\n",
      "/admission/scholarships\n",
      "/oncampus/sports\n",
      "/oncampus/sports\n",
      "/oncampus/arts--culture\n",
      "/onCampus#amphitheater\n",
      "https://www.aiub.edu/files/research/\n",
      "https://www.aiub.edu/research/past-conferences\n",
      "https://www.aiub.edu/research/innovations\n",
      "https://ice.aiub.edu/\n",
      "https://ice.aiub.edu/\n",
      "https://ice.aiub.edu/\n",
      "https://ice.aiub.edu/\n",
      "https://ice.aiub.edu/\n",
      "https://ice.aiub.edu/\n",
      "https://ice.aiub.edu/\n",
      "https://ice.aiub.edu/\n",
      "/Alumni\n",
      "/offices/opa/alumni-at-aiub\n",
      "http://www.cisco.com\n",
      "http://www.oracle.com/us/sun\n",
      "http://www.oracle.com\n",
      "http://aka.ms/aiubds\n",
      "http://cec.aiub.edu\n",
      "http://www.ctpcertified.com\n",
      "http://www.intaward.org\n",
      "http://www.ciwcertified.com\n",
      "https://www.dreamspark.com\n",
      "https://www.ieee.org\n",
      "http://www.juniper.net\n",
      "http://www.eccouncil.org\n",
      "https://www.monash.edu\n",
      "https://www.iobm.edu.pk/\n",
      "https://www.hig.se/\n",
      "https://smu.ca/\n",
      "https://www.obirin.ac.jp/en/\n",
      "https://www.cimaglobal.com/\n",
      "https://www.mq.edu.au/\n",
      "https://www.unitn.it/en\n",
      "https://www.ua.edu/\n",
      "https://www.algomau.ca/\n",
      "http://kbu.ac.th/home/en/\n",
      "https://www.ucb.ac.uk/home.aspx\n",
      "http://www.southalabama.edu/\n",
      "www.unimas.my/\n",
      "#\n",
      "www.isu.edu.tw/en1/\n",
      "www.sut.ac.th/2012/en/\n",
      "https://www.lpu.edu.ph/\n",
      "https://www.fatima.edu.ph/\n",
      "www.ausn.info\n",
      "http://www.uag.mx\n",
      "https://www.uah.es/en/\n",
      "http://www.uum.edu.my/en/\n",
      "https://www.murdoch.edu.au/\n",
      "https://www.washburn.edu/\n",
      "https://www.adamson.edu.ph/\n",
      "https://www.cu.edu.ge/en\n",
      "http://www.cetys.mx/en/\n",
      "http://www.christian.ac.th/\n",
      "http://www.cnc.bc.ca/\n",
      "http://www.dut.ac.za/\n",
      "http://ouc.daishodai.ac.jp/english/\n",
      "http://www.panpacificu.edu.ph/\n",
      "https://ssu.edu.ph/\n",
      "http://www.ubaya.ac.id/en\n",
      "https://www.globaliim.com/\n",
      "http://www.amity.edu/aset/\n",
      "//bshrmbd.com\n",
      "//acbsp.org\n",
      "https://facebook.com/aiub.edu\n",
      "https://www.youtube.com/channel/UCpwnTakRAAks9hpPr_ySxog\n",
      "https://www.linkedin.com/school/aiubedu/\n",
      "//www.instagram.com/aiubedu/\n",
      "https://x.com/aiub_edu\n",
      "/future-Students\n",
      "/onCampus\n",
      "/admission\n",
      "/tuition-fee\n",
      "https://www.aiub.edu/admission/scholarships\n",
      "https://admission.aiub.edu/\n",
      "/academic-calendar\n",
      "/academic-regulations\n",
      "/faculties/fass\n",
      "/faculties/fba\n",
      "/faculties/engg\n",
      "/faculties/b-pharm\n",
      "/faculties/fst\n",
      "/\n"
     ]
    }
   ],
   "source": [
    "aiub = Website(\"https://www.aiub.edu/\")\n",
    "aiub.links\n",
    "print(get_links_user_prompt(aiub))"
   ]
  },
  {
   "cell_type": "code",
   "execution_count": null,
   "id": "3a91b624",
   "metadata": {},
   "outputs": [],
   "source": [
    "def get_links(url):\n",
    "    website = Website(url)\n",
    "    response = openai.chat.completions.create(\n",
    "        model=MODEL,\n",
    "        messages= [\n",
    "            {\"role\": \"system\", \"content\": link_system_prompt},\n",
    "            {\"role\": \"user\", \"content\": get_links_user_prompt(website)}\n",
    "        ],\n",
    "        response_format={\"type\": \"json_object\"}\n",
    "    )\n",
    "    result = response.choices[0].message.content\n",
    "    return json.loads(result)"
   ]
  },
  {
   "cell_type": "code",
   "execution_count": 20,
   "id": "94236f35",
   "metadata": {},
   "outputs": [
    {
     "data": {
      "text/plain": [
       "{'links': [{'type': 'about page', 'url': 'https://www.aiub.edu/about'},\n",
       "  {'type': 'careers page', 'url': 'https://www.aiub.edu/about/career'},\n",
       "  {'type': 'admission page', 'url': 'https://admission.aiub.edu/'},\n",
       "  {'type': 'scholarships page',\n",
       "   'url': 'https://www.aiub.edu/admission/scholarships'},\n",
       "  {'type': 'academic calendar',\n",
       "   'url': 'https://www.aiub.edu/academic-calendar'},\n",
       "  {'type': 'academic regulations',\n",
       "   'url': 'https://www.aiub.edu/academic-regulations'},\n",
       "  {'type': 'contact page', 'url': 'https://www.aiub.edu/contact-us'},\n",
       "  {'type': 'future students page',\n",
       "   'url': 'https://www.aiub.edu/future-Students'}]}"
      ]
     },
     "execution_count": 20,
     "metadata": {},
     "output_type": "execute_result"
    }
   ],
   "source": [
    "get_links(\"https://www.aiub.edu/\")"
   ]
  },
  {
   "cell_type": "markdown",
   "id": "85b13587",
   "metadata": {},
   "source": [
    "# Second Step: Make the Brochure"
   ]
  },
  {
   "cell_type": "code",
   "execution_count": 30,
   "id": "880fe0b0",
   "metadata": {},
   "outputs": [],
   "source": [
    "def get_all_details(url):\n",
    "    result = \"Landing Page:\\n\"\n",
    "    result += Website(url).get_content()\n",
    "    links = get_links(url)\n",
    "    print(\"Found Links:\", links)\n",
    "    for link in links[\"links\"]:\n",
    "        result += f\"\\n\\n{link['type']}\\n\"\n",
    "        result += Website(link[\"url\"]).get_content()\n",
    "    return result"
   ]
  },
  {
   "cell_type": "code",
   "execution_count": null,
   "id": "bbd15fc8",
   "metadata": {},
   "outputs": [],
   "source": [
    "print(get_all_details(\"https://huggingface.co\")) "
   ]
  },
  {
   "cell_type": "code",
   "execution_count": 57,
   "id": "d63c8bd1",
   "metadata": {},
   "outputs": [],
   "source": [
    "create_system_prompt = \"You are an assistant that analyzes the contents of several relevant pages from a company website\\\n",
    "and creates a short brochure about the company for prospective customers, investors and recruits. Respond in markdown.\\\n",
    "Include details of company culture, customers and careers/jobs if you have the information\""
   ]
  },
  {
   "cell_type": "code",
   "execution_count": 34,
   "id": "49e5e9f8",
   "metadata": {},
   "outputs": [],
   "source": [
    "def get_brochure_user_prompt(company_name, url):\n",
    "    user_prompt = f\"You are looking at a company called: {company_name}\\n\"\n",
    "    user_prompt += f\"Here are the contents of its landing page and other relevant pages; use this information to build a short brochure of the company in markdown.\\n\"\n",
    "    user_prompt += get_all_details(url)\n",
    "    user_prompt = user_prompt[:5_000] # Truncate if more than 5,000 characters\n",
    "    return user_prompt"
   ]
  },
  {
   "cell_type": "code",
   "execution_count": 35,
   "id": "fcd718a1",
   "metadata": {},
   "outputs": [
    {
     "name": "stdout",
     "output_type": "stream",
     "text": [
      "Found Links: {'links': [{'type': 'about page', 'url': 'https://huggingface.co/huggingface'}, {'type': 'careers page', 'url': 'https://apply.workable.com/huggingface/'}, {'type': 'enterprise page', 'url': 'https://huggingface.co/enterprise'}, {'type': 'pricing page', 'url': 'https://huggingface.co/pricing'}, {'type': 'blog page', 'url': 'https://huggingface.co/blog'}, {'type': 'discuss page', 'url': 'https://discuss.huggingface.co'}, {'type': 'github page', 'url': 'https://github.com/huggingface'}, {'type': 'twitter page', 'url': 'https://twitter.com/huggingface'}, {'type': 'linkedin page', 'url': 'https://www.linkedin.com/company/huggingface/'}]}\n"
     ]
    },
    {
     "data": {
      "text/plain": [
       "'You are looking at a company called: HuggingFace\\nHere are the contents of its landing page and other relevant pages; use this information to build a short brochure of the company in markdown.\\nLanding Page:\\nWebpage Title:\\nHugging Face – The AI community building the future.\\nWebpage Contents:\\nHugging Face\\nModels\\nDatasets\\nSpaces\\nPosts\\nDocs\\nEnterprise\\nPricing\\nLog In\\nSign Up\\nThe AI community building the future.\\nThe platform where the machine learning community collaborates on models, datasets, and applications.\\nExplore AI Apps\\nor\\nBrowse 1M+ models\\nTrending on\\nthis week\\nModels\\nagentica-org/DeepCoder-14B-Preview\\nUpdated\\n4 days ago\\n•\\n6.87k\\n•\\n427\\nmeta-llama/Llama-4-Scout-17B-16E-Instruct\\nUpdated\\n4 days ago\\n•\\n541k\\n•\\n757\\nHiDream-ai/HiDream-I1-Full\\nUpdated\\nabout 13 hours ago\\n•\\n6.54k\\n•\\n333\\nmoonshotai/Kimi-VL-A3B-Thinking\\nUpdated\\nabout 10 hours ago\\n•\\n4.69k\\n•\\n241\\nnvidia/Llama-3_1-Nemotron-Ultra-253B-v1\\nUpdated\\n3 days ago\\n•\\n10.6k\\n•\\n213\\nBrowse 1M+ models\\nSpaces\\nRunning\\n4.15k\\n4.15k\\nDeepSite\\n🐳\\nGenerate any application with DeepSeek\\nRunning\\non\\nZero\\n1.08k\\n1.08k\\nEasyControl Ghibli\\n🦀\\nNew Ghibli EasyControl model is now released!!\\nRunning\\non\\nZero\\n208\\n208\\nUNO FLUX\\n⚡\\nGenerate customized images using text and multiple images\\nRunning\\non\\nZero\\n197\\n197\\nSanaSprint\\n👁\\nUltra fast high quality image generation\\nRunning\\non\\nZero\\n495\\n495\\nHi3DGen\\n🏢\\nHigh-fidelity 3D Geometry Generation from images\\nBrowse 400k+ applications\\nDatasets\\nnvidia/OpenCodeReasoning\\nUpdated\\n6 days ago\\n•\\n4.35k\\n•\\n177\\nnvidia/Llama-Nemotron-Post-Training-Dataset\\nUpdated\\n5 days ago\\n•\\n3.25k\\n•\\n384\\nopen-thoughts/OpenThoughts2-1M\\nUpdated\\n6 days ago\\n•\\n9.93k\\n•\\n100\\nagentica-org/DeepCoder-Preview-Dataset\\nUpdated\\n4 days ago\\n•\\n1.54k\\n•\\n49\\nLLM360/MegaMath\\nUpdated\\n4 days ago\\n•\\n40.1k\\n•\\n56\\nBrowse 250k+ datasets\\nThe Home of Machine Learning\\nCreate, discover and collaborate on ML better.\\nThe collaboration platform\\nHost and collaborate on unlimited public models, datasets and applications.\\nMove faster\\nWith the HF Open source stack.\\nExplore all modalities\\nText, image, video, audio or even 3D.\\nBuild your portfolio\\nShare your work with the world and build your ML profile.\\nSign Up\\nAccelerate your ML\\nWe provide paid Compute and Enterprise solutions.\\nCompute\\nDeploy on optimized\\nInference Endpoints\\nor update your\\nSpaces applications\\nto a GPU in a few clicks.\\nView pricing\\nStarting at $0.60/hour for GPU\\nEnterprise\\nGive your team the most advanced platform to build AI with enterprise-grade security, access controls and\\n\\t\\t\\tdedicated support.\\nGetting started\\nStarting at $20/user/month\\nSingle Sign-On\\nRegions\\nPriority Support\\nAudit Logs\\nResource Groups\\nPrivate Datasets Viewer\\nMore than 50,000 organizations are using Hugging Face\\nAi2\\nEnterprise\\nnon-profit\\n•\\n396 models\\n•\\n3.07k followers\\nAI at Meta\\nEnterprise\\ncompany\\n•\\n2.08k models\\n•\\n5.49k followers\\nAmazon\\ncompany\\n•\\n20 models\\n•\\n2.99k followers\\nGoogle\\ncompany\\n•\\n983 models\\n•\\n11.6k followers\\nIntel\\ncompany\\n•\\n219 models\\n•\\n2.42k followers\\nMicrosoft\\ncompany\\n•\\n365 models\\n•\\n11.1k followers\\nGrammarly\\nEnterprise\\ncompany\\n•\\n10 models\\n•\\n150 followers\\nWriter\\nEnterprise\\ncompany\\n•\\n21 models\\n•\\n257 followers\\nOur Open Source\\nWe are building the foundation of ML tooling with the community.\\nTransformers\\n142,880\\nState-of-the-art ML for PyTorch, TensorFlow, JAX\\nDiffusers\\n28,550\\nState-of-the-art Diffusion models in PyTorch\\nSafetensors\\n3,218\\nSafe way to store/distribute neural network weights\\nHub Python Library\\n2,512\\nPython client to interact with the Hugging Face Hub\\nTokenizers\\n9,584\\nFast tokenizers optimized for research & production\\nTRL\\n13,176\\nTrain transformers LMs with reinforcement learning\\nTransformers.js\\n13,418\\nState-of-the-art ML running directly in your browser\\nsmolagents\\n16,921\\nSmol library to build great agents in Python\\nPEFT\\n18,094\\nParameter-efficient finetuning for large language models\\nDatasets\\n19,969\\nAccess & share datasets for any ML tasks\\nText Generation Inference\\n10,004\\nServe language models with TGI optimized toolkit\\nAccelerate\\n8,608\\nTrain PyTorch models with multi-GPU, TPU, mixed precision\\nSystem theme\\nWebsite\\nModels\\nDatasets\\nSpaces\\nTasks\\nInference Endpoints\\nHuggingChat\\nCompany\\nAbout\\nBrand assets\\nTerms of service\\nPrivacy\\nJobs\\nPress\\nResources\\nLearn\\nDocumentation\\nBlog\\nForum\\nService Status\\nSocial\\nGitHub\\nTwitter\\nLinkedIn\\nDiscord\\n\\n\\n\\nabout page\\nWebpage Title:\\nhuggingface (Hugging Face)\\nWebpage Contents:\\nHugging Face\\nModels\\nDatasets\\nSpaces\\nPosts\\nDocs\\nEnterprise\\nPricing\\nLog In\\nSign Up\\nHugging Face\\nEnterprise\\ncompany\\nVerified\\nhttps://huggingface.co\\nhuggingface\\nhuggingface\\nActivity Feed\\nFollow\\n31,476\\nAI & ML interests\\nThe AI community building the future.\\nRecent Activity\\nmishig\\nupdated\\na Space\\n2 days ago\\nhuggingface/inference-playground\\nderekl35\\nupdated\\na dataset\\n2 days ago\\nhuggingface/documentation-images\\nlysandre\\nupdated\\na dataset\\n2 days ago\\nhuggingface/transformers-metadata\\nView all activity\\nArticles\\nYay! Organizations can now publish blog Articles\\nJan 20\\n•\\n39\\nTeam members\\n213\\n+179\\n+166\\n+145\\n+135\\n+115\\nOrganization Card\\nCommunity\\nAbout org cards\\n👋 Hi!\\nWe are on a mission to d'"
      ]
     },
     "execution_count": 35,
     "metadata": {},
     "output_type": "execute_result"
    }
   ],
   "source": [
    "get_brochure_user_prompt(\"HuggingFace\", \"https://huggingface.co\")"
   ]
  },
  {
   "cell_type": "code",
   "execution_count": 73,
   "id": "b8c78fdb",
   "metadata": {},
   "outputs": [],
   "source": [
    "def create_brochure(company_name, url):\n",
    "    response = openai.chat.completions.create(\n",
    "        model=MODEL,\n",
    "        messages=[\n",
    "            {\"role\": \"system\", \"content\": create_system_prompt},\n",
    "            {\n",
    "                \"role\": \"user\",\n",
    "                \"content\": get_brochure_user_prompt(company_name, url),\n",
    "            },\n",
    "        ],\n",
    "    )\n",
    "    result = response.choices[0].message.content\n",
    "    return result"
   ]
  },
  {
   "cell_type": "code",
   "execution_count": 75,
   "id": "7d6d44e9",
   "metadata": {},
   "outputs": [
    {
     "name": "stdout",
     "output_type": "stream",
     "text": [
      "Found Links: {'links': [{'type': 'about page', 'url': 'https://huggingface.co/huggingface'}, {'type': 'careers page', 'url': 'https://apply.workable.com/huggingface/'}, {'type': 'enterprise page', 'url': 'https://huggingface.co/enterprise'}, {'type': 'pricing page', 'url': 'https://huggingface.co/pricing'}, {'type': 'blog page', 'url': 'https://huggingface.co/blog'}, {'type': 'community page', 'url': 'https://discuss.huggingface.co'}, {'type': 'GitHub page', 'url': 'https://github.com/huggingface'}, {'type': 'LinkedIn page', 'url': 'https://www.linkedin.com/company/huggingface/'}, {'type': 'Twitter page', 'url': 'https://twitter.com/huggingface'}]}\n"
     ]
    },
    {
     "data": {
      "text/markdown": [
       "# Hugging Face Brochure\n",
       "\n",
       "## About Us\n",
       "Hugging Face is the AI community building the future, providing a collaborative platform for machine learning enthusiasts, researchers, and enterprises. With a mission to foster innovation and collaboration, we are the home of machine learning, supporting the creation, discovery, and deployment of advanced models and datasets.\n",
       "\n",
       "- **Website:** [huggingface.co](https://huggingface.co)\n",
       "- **Twitter:** [@huggingface](https://twitter.com/huggingface)\n",
       "- **LinkedIn:** [Hugging Face](https://www.linkedin.com/company/huggingface)\n",
       "\n",
       "## Our Offerings\n",
       "Hugging Face offers a wide range of tools and resources to the AI community:\n",
       "- **Models:** Over 1 million models to choose from, including popular ones like Llama-4 and DeepCoder.\n",
       "- **Datasets:** Access to 250,000+ datasets for various machine learning tasks.\n",
       "- **Spaces:** An interactive platform to create and showcase ML applications, featuring popular tools such as DeepSeek and EasyControl models.\n",
       "- **Enterprise Solutions:** Offering paid compute options and tailored services for organizations with advanced AI needs.\n",
       "\n",
       "## Customers\n",
       "More than 50,000 organizations trust Hugging Face for their machine learning needs, from enterprise giants to non-profits. Our esteemed clientele includes:\n",
       "\n",
       "- **Meta**\n",
       "- **Amazon**\n",
       "- **Google**\n",
       "- **Microsoft**\n",
       "- **Grammarly**\n",
       "\n",
       "## Careers at Hugging Face\n",
       "Join our rapidly growing team of over 200 dedicated professionals! We are always on the lookout for talented individuals who share our passion for artificial intelligence, collaboration, and innovation. Explore career opportunities across various functions, including engineering, research, and community engagement.\n",
       "\n",
       "### Why Work With Us?\n",
       "- **Innovative Culture:** We thrive on diversity, creativity, and a commitment to open-source principles. Our team embraces collaboration and continuous learning to build cutting-edge AI technologies.\n",
       "- **Supportive Environment:** We encourage the sharing of ideas and knowledge within our community, fostering a collaborative atmosphere that empowers individual growth and team success.\n",
       "- **Impactful Work:** Be part of a company that is shaping the future of artificial intelligence and machine learning, making a tangible impact across various industries.\n",
       "\n",
       "## Get Involved\n",
       "Whether you’re a researcher, developer, or simply passionate about AI, there’s a place for you in our community. Sign up today to start collaborating with like-minded individuals, explore our vast repository of models and datasets, or join discussions on the latest advancements in AI.\n",
       "\n",
       "- **Explore Models:** [Explore 1M+ models](https://huggingface.co/models)\n",
       "- **Join Our Community:** [Sign Up](https://huggingface.co/join)\n",
       "- **Stay Updated:** Follow us on [Discord](https://discord.gg/huggingface) and [Twitter](https://twitter.com/huggingface) for the latest news and updates.\n",
       "\n",
       "## Conclusion\n",
       "At Hugging Face, we are committed to building an inclusive and innovative AI community. Join us as we shape the future of artificial intelligence together!"
      ],
      "text/plain": [
       "<IPython.core.display.Markdown object>"
      ]
     },
     "metadata": {},
     "output_type": "display_data"
    }
   ],
   "source": [
    "display(Markdown(create_brochure(\"HuggingFace\", \"https://huggingface.co\")))"
   ]
  },
  {
   "cell_type": "code",
   "execution_count": null,
   "id": "91fa1463",
   "metadata": {},
   "outputs": [
    {
     "name": "stdout",
     "output_type": "stream",
     "text": [
      "Found Links: {'links': [{'type': 'about page', 'url': 'https://www.aiub.edu/about'}, {'type': 'career page', 'url': 'https://www.aiub.edu/about/career'}, {'type': 'contact page', 'url': 'https://www.aiub.edu/contact-us'}, {'type': 'admission page', 'url': 'https://www.aiub.edu/admission'}, {'type': 'tuition fee page', 'url': 'https://www.aiub.edu/tuition-fee'}, {'type': 'alumni page', 'url': 'https://www.aiub.edu/Alumni'}, {'type': 'academic calendar page', 'url': 'https://www.aiub.edu/academic-calendar'}, {'type': 'academic regulations page', 'url': 'https://www.aiub.edu/academic-regulations'}, {'type': 'faculties page', 'url': 'https://www.aiub.edu/faculties'}, {'type': 'research page', 'url': 'https://www.aiub.edu/research'}, {'type': 'sustainability page', 'url': 'https://www.aiub.edu/sustainability'}]}\n"
     ]
    },
    {
     "data": {
      "text/markdown": [
       "# AIUB Brochure\n",
       "\n",
       "### Welcome to American International University-Bangladesh (AIUB)\n",
       "\n",
       "At AIUB, we believe in fostering the leaders of tomorrow through rigorous academic programs and an enriching campus culture. With a commitment to excellence and innovation, we prepare students for challenges in an ever-evolving world.\n",
       "\n",
       "## Why Choose AIUB?\n",
       "\n",
       "- **Diverse Academic Programs**: Our extensive range of undergraduate and postgraduate programs ensures there is something for everyone, including fields such as Business Administration, Engineering, Health and Life Sciences, and Arts and Social Sciences.\n",
       "\n",
       "- **Technologically Advanced Education**: Our tech-centric teaching approach empowers students with the skills needed for today's digital age.\n",
       "\n",
       "- **Global Partnerships**: AIUB maintains academic and strategic partnerships with various international institutions, enhancing the learning experience through global collaboration.\n",
       "\n",
       "- **Sustainability Focus**: We are dedicated to responsible futures, emphasizing sustainability within our curriculum and campus initiatives.\n",
       "\n",
       "## Campus Life and Culture\n",
       "\n",
       "AIUB is not just about academic excellence; it’s about building a thriving community. Our urban green campus offers an inviting environment for students to learn, grow, and connect. We emphasize cultural affairs and sports, providing numerous opportunities for extracurricular engagement.\n",
       "\n",
       "### Core Values\n",
       "- **Innovation**: Encouraging creativity and new ideas.\n",
       "- **Collaboration**: Building strong relationships within the campus community and beyond.\n",
       "- **Integrity**: Upholding the highest standards of excellence and ethics.\n",
       "\n",
       "## Career Opportunities\n",
       "\n",
       "We value our talented faculty and staff, continuously seeking passionate individuals who wish to contribute to our vision. AIUB offers a dynamic work environment and numerous career advancement opportunities. Our Human Resources Office is dedicated to fostering professional growth and a positive workplace culture.\n",
       "\n",
       "### Current Openings\n",
       "Check our official website for the latest job vacancies and how to apply. Whether you're an educator, administrator, or support staff, AIUB welcomes diverse talent to join our community.\n",
       "\n",
       "## Connect with Us\n",
       "\n",
       "For prospective students, investors, and recruits looking for more information, feel free to explore our resources and reach out with your inquiries:\n",
       "\n",
       "- [Visit our Website](www.aiub.edu)\n",
       "- [Contact Us](mailto:info@aiub.edu)\n",
       "- Follow us on [Social Media](#)\n",
       "\n",
       "Join us at AIUB, where educational excellence meets innovation and opportunity. Together, we'll shape the future!"
      ],
      "text/plain": [
       "<IPython.core.display.Markdown object>"
      ]
     },
     "metadata": {},
     "output_type": "display_data"
    }
   ],
   "source": [
    "display(Markdown(create_brochure(\"AIUB\", \"https://aiub.edu\")))"
   ]
  },
  {
   "cell_type": "markdown",
   "id": "b96bb40f",
   "metadata": {},
   "source": [
    "# With Changed Tone in System Prompt"
   ]
  },
  {
   "cell_type": "code",
   "execution_count": 56,
   "id": "963056fa",
   "metadata": {},
   "outputs": [],
   "source": [
    "create_system_prompt = \"You are an assistant that analyzes the contents of several relevant pages from a company website \\\n",
    "and creates a short humorous, entertaining, jokey brochure about the company for prospective customers, investors and recruits. Respond in markdown.\\\n",
    "Include details of company culture, customers and careers/jobs if you have the information.\""
   ]
  },
  {
   "cell_type": "code",
   "execution_count": null,
   "id": "08e05cfc",
   "metadata": {},
   "outputs": [
    {
     "name": "stdout",
     "output_type": "stream",
     "text": [
      "Found Links: {'links': [{'type': 'about page', 'url': 'https://www.aiub.edu/about'}, {'type': 'general information page', 'url': 'https://www.aiub.edu/about/general-information'}, {'type': 'careers page', 'url': 'https://www.aiub.edu/about/career'}, {'type': 'academic calendar', 'url': 'https://www.aiub.edu/academic-calendar'}, {'type': 'administration page', 'url': 'https://www.aiub.edu/Administration'}, {'type': 'contact page', 'url': 'https://www.aiub.edu/contact-us'}, {'type': 'alumni page', 'url': 'https://www.aiub.edu/Alumni'}, {'type': 'scholarships page', 'url': 'https://www.aiub.edu/admission/scholarships'}, {'type': 'faculty list', 'url': 'https://www.aiub.edu/Faculty-List'}, {'type': 'partnerships page', 'url': 'https://www.aiub.edu/partnerships/internationalization'}, {'type': 'tuition fee page', 'url': 'https://www.aiub.edu/tuition-fee'}, {'type': 'research page', 'url': 'https://www.aiub.edu/research'}, {'type': 'publications page', 'url': 'https://www.aiub.edu/publications'}, {'type': 'admissions page', 'url': 'https://www.aiub.edu/admission'}]}\n"
     ]
    },
    {
     "data": {
      "text/markdown": [
       "# Welcome to AIUB: Where Leaders Are Manufactured (With a Few Nuts and Bolts!)\n",
       "\n",
       "## 🤖 About Us\n",
       "\n",
       "Welcome to the **American International University-Bangladesh (AIUB)**! We're not just your average institution of higher learning - we're a **leader-making machine**! Our mission? To ensure our students graduate ready to face the world - armed with knowledge, skills, and perhaps an unusual fondness for coffee.\n",
       "\n",
       "## 📚 Why Spend Your Time Here? \n",
       "\n",
       "- **Tech-Centric Teaching:** We embrace technology so much that our professors may as well have circuit boards instead of brains! (Just kidding... sort of).\n",
       "- **Urban Green Campus:** Our campus is like an eco-friendly oasis, where you can find shade, inspiration, and maybe even a squirrel giving a motivational speech.\n",
       "- **Endless Resources:** Libraries, faculty—dare we say, we have it ALL! Plus, stunning views while you cram for exams.\n",
       "\n",
       "## 🎓 Programs and Courses\n",
       "\n",
       "Choose from a dazzling array of programs (yes, we’re dazzling—you'll need your shades):\n",
       "\n",
       "- **Arts & Social Sciences:** Because every superhero needs a secret identity!\n",
       "- **Business Administration:** Where you learn how to make money and avoid existential crises.\n",
       "- **Engineering:** Build bridges, robots, or just really complicated spreadsheets. The limit is your imagination (and possibly physics).\n",
       "- **Health and Life Sciences:** Because we need skilled folks who know how to save the world - or at least bandage a paper cut.\n",
       "\n",
       "## 🤝 Our Customers\n",
       "\n",
       "Our customers? Let's face it, they aren't just customers; they are **future leaders, thinkers, and innovators!** We cater to anyone who dreams of changing the world—one lecture (or late-night study session) at a time.\n",
       "\n",
       "## 💼 Careers at AIUB \n",
       "\n",
       "We also have jobs (yeah, you heard us!):\n",
       "- **Sarcastic Librarian:** Unofficial title available upon frequent usage of \"Shhhh\"!\n",
       "- **Innovative Professor:** Must love late nights, coffee, and explaining complex theories in three different metaphors.\n",
       "- **Cultural Affairs Coordinator:** Your mission—make sure there are as many fun events as there are days in the week. (Warning: must love confetti).\n",
       "\n",
       "## 🎉 Company Culture\n",
       "\n",
       "At AIUB, team spirit runs high! We practice an open-door policy—with the occasional doorbell for dramatic effect. Whether it’s through studying, sports, or campus gatherings, we believe in **working hard and hardly working** (wait, what?). \n",
       "\n",
       "We’re family here—if you don’t eat pizza with us on Fridays, are you really even part of the crew?\n",
       "\n",
       "## ✉️ Contact Us (Before We Run Out of Jokes)\n",
       "\n",
       "Interested? Want to join our elite circle of future change-makers? Or just curious about how we make the best coffee on campus? \n",
       "\n",
       "Reach out! And remember to turn on your JavaScript (it’s a prerequisite for maximum fun) before you visit our website! Who knows—you might just discover your future here!\n",
       "\n",
       "---\n",
       "\n",
       "At AIUB, the future isn’t just bright; it’s downright **dazzling** (with a chance of awesome). Join us and let’s create tomorrow together—one syllabus at a time! ✨"
      ],
      "text/plain": [
       "<IPython.core.display.Markdown object>"
      ]
     },
     "metadata": {},
     "output_type": "display_data"
    }
   ],
   "source": [
    "display(Markdown(create_brochure(\"AIUB\", \"https://aiub.edu\")))"
   ]
  },
  {
   "cell_type": "markdown",
   "id": "372ec3eb",
   "metadata": {},
   "source": [
    "# Minor Improvements"
   ]
  },
  {
   "cell_type": "code",
   "execution_count": 58,
   "id": "7c70c87e",
   "metadata": {},
   "outputs": [],
   "source": [
    "def stream_brochure(company_name, url):\n",
    "    stream = openai.chat.completions.create(\n",
    "        model=MODEL,\n",
    "        messages=[\n",
    "            {\"role\": \"system\", \"content\": create_system_prompt},\n",
    "            {\n",
    "                \"role\": \"user\",\n",
    "                \"content\": get_brochure_user_prompt(company_name, url),\n",
    "            },\n",
    "        ],\n",
    "        stream=True,\n",
    "    )\n",
    "\n",
    "    response = \"\"\n",
    "    display_handle = display(Markdown(\"\"), display_id=True)\n",
    "    for chunk in stream:\n",
    "        response += chunk.choices[0].delta.content or \"\"\n",
    "        response = response.replace(\"```\", \"\").replace(\"markdown\", \"\")\n",
    "        update_display(\n",
    "            Markdown(response), display_id=display_handle.display_id\n",
    "        )"
   ]
  },
  {
   "cell_type": "code",
   "execution_count": 42,
   "id": "098f89db",
   "metadata": {},
   "outputs": [
    {
     "name": "stdout",
     "output_type": "stream",
     "text": [
      "Found Links: {'links': [{'type': 'about page', 'url': 'https://huggingface.co/huggingface'}, {'type': 'careers page', 'url': 'https://apply.workable.com/huggingface/'}, {'type': 'company page', 'url': 'https://huggingface.co/enterprise'}, {'type': 'blog page', 'url': 'https://huggingface.co/blog'}, {'type': 'community page', 'url': 'https://discuss.huggingface.co'}, {'type': 'GitHub page', 'url': 'https://github.com/huggingface'}, {'type': 'Twitter page', 'url': 'https://twitter.com/huggingface'}, {'type': 'LinkedIn page', 'url': 'https://www.linkedin.com/company/huggingface/'}]}\n"
     ]
    },
    {
     "data": {
      "text/markdown": [
       "# Welcome to Hugging Face: The Cuddliest AI Community Around!\n",
       "\n",
       "![Hugging Face Logo](https://huggingface.co/static/huggingface_logo_new.svg)\n",
       "\n",
       "## 🌟 Who We Are\n",
       "\n",
       "At Hugging Face, we're on a mission to **build the future of AI**—all while making sure our community has enough hugs (virtually, of course). Not only do we love to cuddle with data, but we also want to pack it into the most magical models you've ever seen!\n",
       "\n",
       "## 🤖 What We Do\n",
       "\n",
       "- **Models Galore**: With over 1 million models, call us the “Model UN” of AI, but with way less politics and way more hugging! 🌍🤗\n",
       "- **Dazzling Datasets**: We boast a robust library of 250k+ datasets—it's basically an all-you-can-eat buffet for data enthusiasts. And yes, we have options for those on a gluten-free diet. 📊🥳\n",
       "- **Spaces to Explore**: Dive into the creativity ocean! Generate applications faster than you can say \"Hugging Face\" with our über-cool Spaces. You're just a few clicks away from the next viral sensation! 🚀\n",
       "\n",
       "## 🎉 Customers Who Give Us Warm Fuzzies\n",
       "\n",
       "Join over **50,000 organizations** (including tech giants like Google, Microsoft, and Amazon) that are already leveraging our platform. From innovative start-ups to established enterprises, we’re the preferred partner for anyone looking to embrace the AI community. 🎈\n",
       "\n",
       "## 💼 Careers & Culture at Hugging Face\n",
       "\n",
       "At Hugging Face, we don't just work; we build friendships. Our team is powered by coffee, kindness, and a touch of AI magic! Join us if you:\n",
       "1. Love collaboration and sharing ideas (and memes!).\n",
       "2. Think coding is like a warm hug for the brain.\n",
       "3. Want to be part of a community where every day feels like an exciting new adventure!\n",
       "\n",
       "### Open Positions:\n",
       "- AI Wizard\n",
       "- Data Sorcerer\n",
       "- Hugging Specialist (kidding! But please bring your warmth).\n",
       "\n",
       "If you're dreaming of a career where you can play with language models, create amazing applications, and share hugs (virtually, of course), **we want you!** Check out our [job listings](https://huggingface.co/jobs)!\n",
       "\n",
       "## 🌐 Join the Hugging Community\n",
       "\n",
       "Whether you're a seasoned pro in machine learning or a curious newcomer, we welcome everyone! Come aboard, and together we’ll create and explore AI innovations. 🥳🎊\n",
       "\n",
       "Ready to join the hug-fest? Sign up now at [Hugging Face](https://huggingface.co) and be part of the **AI future** that's warm, welcoming, and lots of fun!\n",
       "\n",
       "> Remember, friendships can overshadow any algorithm. So let’s calculate those cuddles! 🤗\n",
       "\n",
       "---\n",
       "\n",
       "For more information, help, or just a chat, follow us on [GitHub](https://github.com/huggingface) or [Twitter](https://twitter.com/huggingface). Let’s connect, collaborate, and revolutionize AI together!\n",
       "\n",
       "**Hugging Face** – The AI Community Building the Future (one hug at a time)!"
      ],
      "text/plain": [
       "<IPython.core.display.Markdown object>"
      ]
     },
     "metadata": {},
     "output_type": "display_data"
    }
   ],
   "source": [
    "stream_brochure(\"HuggingFace\", \"https://huggingface.co\")"
   ]
  },
  {
   "cell_type": "markdown",
   "id": "ecf5c7ed",
   "metadata": {},
   "source": [
    "# 3rd Call"
   ]
  },
  {
   "cell_type": "code",
   "execution_count": 63,
   "id": "dc465fbb",
   "metadata": {},
   "outputs": [],
   "source": [
    "system_prompt = \"You are an expert English-to-Bangla translator. \\\n",
    "You accurately and professionally translate any given text into Bangla, preserving the original format, tone, \\\n",
    "and context without any loss of meaning. Respond in Markdown.\""
   ]
  },
  {
   "cell_type": "code",
   "execution_count": 60,
   "id": "172b1848",
   "metadata": {},
   "outputs": [],
   "source": [
    "def get_translated_brochure_user_prompt(brochure_text):\n",
    "    result = \"Below is a brochure written in Markdown format:\\n\\n\"\n",
    "    result += f\"{brochure_text}\\n\\n\"\n",
    "    result += \"Please translate this brochure into Bangla, preserving the original format, tone, and context accurately.\"\n",
    "    return result\n"
   ]
  },
  {
   "cell_type": "code",
   "execution_count": null,
   "id": "61da43b9",
   "metadata": {},
   "outputs": [],
   "source": [
    "def translate_brochure(company_name, url):\n",
    "    content = create_brochure(company_name, url)\n",
    "    response = openai.chat.completions.create(\n",
    "        model=MODEL,\n",
    "        messages=[\n",
    "            {\"role\": \"system\", \"content\": system_prompt},\n",
    "            {\n",
    "                \"role\": \"user\",\n",
    "                \"content\": get_translated_brochure_user_prompt(content),\n",
    "            },\n",
    "        ],\n",
    "    )\n",
    "    result = response.choices[0].message.content\n",
    "    return result"
   ]
  },
  {
   "cell_type": "code",
   "execution_count": 78,
   "id": "83b298f1",
   "metadata": {},
   "outputs": [
    {
     "name": "stdout",
     "output_type": "stream",
     "text": [
      "Found Links: {'links': [{'type': 'about page', 'url': 'https://huggingface.co/huggingface'}, {'type': 'careers page', 'url': 'https://apply.workable.com/huggingface/'}, {'type': 'enterprise page', 'url': 'https://huggingface.co/enterprise'}, {'type': 'pricing page', 'url': 'https://huggingface.co/pricing'}, {'type': 'blog page', 'url': 'https://huggingface.co/blog'}, {'type': 'discussion forum', 'url': 'https://discuss.huggingface.co'}, {'type': 'GitHub page', 'url': 'https://github.com/huggingface'}, {'type': 'Twitter page', 'url': 'https://twitter.com/huggingface'}, {'type': 'LinkedIn page', 'url': 'https://www.linkedin.com/company/huggingface/'}]}\n"
     ]
    },
    {
     "data": {
      "text/markdown": [
       "# Hugging Face ব্রোশিওর\n",
       "\n",
       "## আমাদের সম্পর্কে\n",
       "**Hugging Face** কৃত্রিম বুদ্ধিমত্তার (AI) সম্প্রদায়ের অগ্রভাগে, মেশিন লার্নিংয়ের ভবিষ্যত নির্মাণে নিবেদিত। আমরা একটি শক্তিশালী প্ল্যাটফর্ম প্রদান করি যেখানে ব্যক্তি এবং সংস্থাগুলি **মডেল**, **ডেটাসেট** এবং অ্যাপ্লিকেশনগুলিতে সহযোগিতা করতে পারে, যা কৃত্রিম বুদ্ধিমত্তার ক্ষেত্রে উদ্ভাবন এবং বৃদ্ধি সহজ করে তোলে।\n",
       "\n",
       "## আমাদের অফারিংস\n",
       "- **মডেল**: টেক্সট থেকে ইমেজ, অডিও এবং 3D পর্যন্ত **1 মিলিয়নেরও বেশি মডেল** অ্যাক্সেস এবং শেয়ার করুন।\n",
       "- **ডেটাসেট**: বিভিন্ন এমএল কাজের জন্য তৈরিকৃত **250ক ডেটাসেট** অন্বেষণ এবং ব্যবহার করুন।\n",
       "- **স্পেস**: সহজেই অ্যাপ্লিকেশন তৈরি এবং চালান, বিভিন্ন ডোমেনের জন্য কাস্টমাইজড আউটপুট উৎপাদনের বিকল্পসহ।\n",
       "\n",
       "### মূল হাইলাইটস\n",
       "- **ট্রেন্ডিং মডেল**: Hugging Face-এ সর্বশেষ মডেলগুলি অন্তর্ভুক্ত:\n",
       "  - `agentica-org/DeepCoder-14B-Preview` \n",
       "  - `meta-llama/Llama-4-Scout-17B-16E-Instruct`\n",
       "- **সহযোগিতা**: Google, Amazon, Microsoft-এর মতো প্রধান উদ্যোগসমূহসহ **50,000-এরও বেশি সংস্থার** সঙ্গে একত্রে কাজ করুন।\n",
       "\n",
       "## কোম্পানির সংস্কৃতি\n",
       "Hugging Face-এ, আমরা **সম্প্রদায়** এবং **সহযোগিতার** শক্তিতে বিশ্বাস করি। আমরা একটি অন্তর্ভুক্তিমূলক পরিবেশ তৈরি করতে চেষ্টা করি যেখানে উদ্ভাবন মুক্ত সফটওয়্যার নীতিগুলির মাধ্যমে প্রসারিত হয়। আমাদের সংস্কৃতির বৈশিষ্ট্যগুলি হল:\n",
       "\n",
       "- **স্বচ্ছতা**: খোলামেলা যোগাযোগ এবং জ্ঞানের শেয়ারিং।\n",
       "- **সম্প্রদায়ের বিনিয়োগ**: ব্যবহারকারীদের এবং সংস্থাগুলির সক্রিয় অংশগ্রহণ এবং অবদান।\n",
       "- **সহায়তা**: প্রতিটি স্তরের ব্যবহারকারীদের জন্য নিবেদিত সহায়তা প্রদান করা, নিশ্চিত করে যে সবাই AI এর সুবিধা নিতে পারে।\n",
       "\n",
       "## Hugging Face-এ ক্যারিয়ার\n",
       "আমরা সদা কর্মঠ ব্যক্তিদের খোঁজে থাকি যারা আমাদের টিমে যোগদান করতে ইচ্ছুক। **AI-এর গণতান্ত্রিকীকরণ ও মেশিন লার্নিংয়ের ভবিষ্যত রূপান্তরে আমাদের মিশনে** আমাদের সাথে যোগ দিন। বর্তমান ক্যারিয়ারের সুযোগগুলি বিভিন্ন ক্ষেত্রে বিস্তৃত, যেমন:\n",
       "\n",
       "- **সফটওয়্যার ডেভেলপমেন্ট**\n",
       "- **ডেটা সায়েন্স**\n",
       "- **সামাজিক সম্পকর্কার্যক্রম**\n",
       "- **মার্কেটিং**\n",
       "\n",
       "বর্তমান চাকরির সুযোগ এবং কিভাবে আবেদন করতে হয় সে সম্পর্কে আরও জানার জন্য আমাদের ক্যারিয়ার পৃষ্ঠা দেখুন।\n",
       "\n",
       "## যোগাযোগ করুন\n",
       "Hugging Face এর সাথে সম্ভাবনাগুলি আবিষ্কার করুন! আমাদের সেবা অন্বেষণ করতে, আমাদের সম্প্রদায় সম্পর্কে আরও জানতে, বা অংশীদারত্বের সুযোগের জন্য আমাদের সাথে যোগাযোগ করতে [huggingface.co](https://huggingface.co) তে যান।\n",
       "\n",
       "---\n",
       "\n",
       "একসঙ্গে, আমরা AI-এর ভবিষ্যত নির্মাণ করি!"
      ],
      "text/plain": [
       "<IPython.core.display.Markdown object>"
      ]
     },
     "metadata": {},
     "output_type": "display_data"
    },
    {
     "data": {
      "text/plain": [
       "None"
      ]
     },
     "metadata": {},
     "output_type": "display_data"
    }
   ],
   "source": [
    "display(translate_brochure(\"HuggingFace\", \"https://huggingface.co\"))"
   ]
  }
 ],
 "metadata": {
  "kernelspec": {
   "display_name": "llms",
   "language": "python",
   "name": "python3"
  },
  "language_info": {
   "codemirror_mode": {
    "name": "ipython",
    "version": 3
   },
   "file_extension": ".py",
   "mimetype": "text/x-python",
   "name": "python",
   "nbconvert_exporter": "python",
   "pygments_lexer": "ipython3",
   "version": "3.11.11"
  }
 },
 "nbformat": 4,
 "nbformat_minor": 5
}
